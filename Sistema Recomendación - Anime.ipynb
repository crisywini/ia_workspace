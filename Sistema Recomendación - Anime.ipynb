{
 "cells": [
  {
   "cell_type": "markdown",
   "metadata": {},
   "source": [
    "# Sistema de recomendación de anime"
   ]
  },
  {
   "cell_type": "code",
   "execution_count": 1,
   "metadata": {},
   "outputs": [],
   "source": [
    "import numpy as np\n",
    "from matplotlib import pyplot as plt\n",
    "import pandas as pd \n",
    "from sklearn.neighbors import NearestNeighbors"
   ]
  },
  {
   "cell_type": "markdown",
   "metadata": {},
   "source": [
    "El objetivo es aplicar todo lo que hemos aprendido hasta el momento, especialmente sobre gradiente descendiente. Para esto desarrollaremos un sistema de recomendación usando factorización de matrices.\n",
    "\n",
    "En esta entrega se darán todos elementos necesarios para desarrollar un sistema de recomendación de amines, el objetivo es que usted entienda como funciona y desarrolle una solución.\n",
    "\n",
    "Si desea conocer mas sobre el dataset que usaremos puede revisar acá: https://www.kaggle.com/CooperUnion/anime-recommendations-database"
   ]
  },
  {
   "cell_type": "markdown",
   "metadata": {},
   "source": [
    "1- Cargue las bases de datos de calificaciones, usuarios y animes. Puede usar para este objetivo la biblioteca pandas. Genere el conjunto de entrenamiento usando los usuarios cómo filas y los animes cómo columnas. Tenga en cuenta que para el algoritmo es necesario que los -1 sean cero, sin embargo, para la recomendación si debe tener en cuenta dichos valores."
   ]
  },
  {
   "cell_type": "code",
   "execution_count": 2,
   "metadata": {},
   "outputs": [
    {
     "name": "stdout",
     "output_type": "stream",
     "text": [
      "anime_id  1      5      6      7      8      15     16     17     18     \\\n",
      "user_id                                                                   \n",
      "1           0.0    0.0    0.0    0.0    0.0    0.0    0.0    0.0    0.0   \n",
      "2           0.0    0.0    0.0    0.0    0.0    0.0    0.0    0.0    0.0   \n",
      "3           0.0    0.0    0.0    0.0    0.0    0.0    0.0    0.0    0.0   \n",
      "4           0.0    0.0    0.0    0.0    0.0    0.0    0.0    0.0    0.0   \n",
      "5           0.0    0.0    8.0    0.0    0.0    6.0    0.0    6.0    6.0   \n",
      "\n",
      "anime_id  19     ...  33522  33524  33558  33569  33618  33659  33934  33964  \\\n",
      "user_id          ...                                                           \n",
      "1           0.0  ...    0.0    0.0    0.0    0.0    0.0    0.0    0.0    0.0   \n",
      "2           0.0  ...    0.0    0.0    0.0    0.0    0.0    0.0    0.0    0.0   \n",
      "3           0.0  ...    0.0    0.0    0.0    0.0    0.0    0.0    0.0    0.0   \n",
      "4           0.0  ...    0.0    0.0    0.0    0.0    0.0    0.0    0.0    0.0   \n",
      "5           0.0  ...    0.0    0.0    0.0    0.0    0.0    0.0    0.0    0.0   \n",
      "\n",
      "anime_id  34103  34240  \n",
      "user_id                 \n",
      "1           0.0    0.0  \n",
      "2           0.0    0.0  \n",
      "3           0.0    0.0  \n",
      "4           0.0    0.0  \n",
      "5           0.0    0.0  \n",
      "\n",
      "[5 rows x 4839 columns]\n",
      "   user_id  anime_id  rating\n",
      "0        1        20      -1\n",
      "1        1        24      -1\n",
      "2        1        79      -1\n",
      "3        1       226      -1\n",
      "4        1       241      -1\n"
     ]
    }
   ],
   "source": [
    "ratings_df = pd.read_csv('rating.csv', nrows=73516)\n",
    "#anime_id = ratings_df['anime_id']\n",
    "#user_id = ratings_df['user_id']\n",
    "#rating  = ratings_df['rating']\n",
    "#anime_df = pd.read_csv('anime.csv'\n",
    "\n",
    "'''\n",
    "i_limit, j_limit = training.shape\n",
    "for i in range(0, i_limit):\n",
    "    for j in range(0, j_limit):\n",
    "        if rating[j] != -1:\n",
    "           < training[i,j] = rating[j]\n",
    "matrix_df = pd.pivot_table(ratings_df, values='rating', index='user_id', columns='anime_id')\n",
    "\n",
    "matrix_df.head()\n",
    "'''\n",
    "matrix = np.array(pd.pivot_table(ratings_df, values='rating', index='user_id', columns='anime_id').\n",
    "                  fillna(0).replace(-1, 0))\n",
    "matrix_df = pd.pivot_table(ratings_df, values='rating', index='user_id', columns='anime_id').fillna(0).replace({-1:0})\n",
    "\n",
    "print(matrix_df.head())\n",
    "\n",
    "print(ratings_df.head())\n",
    "\n"
   ]
  },
  {
   "cell_type": "markdown",
   "metadata": {},
   "source": [
    "2- Agregue la función donde se ejecuta el algoritmo de factorización de matrices. Puede basarse en el algoritmo compartido en las dispositivas. No debe de gastar todas las interaciones. "
   ]
  },
  {
   "cell_type": "code",
   "execution_count": 3,
   "metadata": {},
   "outputs": [],
   "source": [
    "def do_matrix_factorization(R, P, Q, K, steps=5000, alpha=0.0002, beta=0.02):\n",
    "    Q = Q.T\n",
    "    for step in range(steps):\n",
    "        for i in range(len(R)):\n",
    "            for j in range(len(R[i])):\n",
    "                if R[i,j] > 0:\n",
    "                    eij = R[i,j] - P[i,:].dot(Q[:,j])\n",
    "                    for k in range(K):\n",
    "                        P[i,k] = P[i,k] + alpha * (2 * eij * Q[k,j] - beta * P[i,k])\n",
    "                        Q[k,j] = Q[k,j] + alpha * (2 * eij * P[i,k] - beta * Q[k,j])\n",
    "        eR = P.dot(Q)\n",
    "        e = 0\n",
    "        for i in range(len(R)):\n",
    "            for j in range(len(R[i])):\n",
    "                if R[i,j] > 0:\n",
    "                    e = e + pow(R[i,j] - P[i,:].dot(Q[:,j]), 2)\n",
    "                    for k in range(K):\n",
    "                        e = e + (beta/2) * (pow(P[i,k],2) + pow(Q[k,j],2))\n",
    "        if e < 0.001:\n",
    "            break\n",
    "    return P, Q.T\n",
    "\n"
   ]
  },
  {
   "cell_type": "markdown",
   "metadata": {},
   "source": [
    "3- Programe una función para generar $\\hat{R}$. Recuerde que para generar $\\hat{R}$ debe realizar los siguiente pasos:\n",
    "\n",
    "    - Generar R usando el algoritmo de vecinos más cercanos.\n",
    "    - Defina K.\n",
    "    - Defina P y Q.\n",
    "    - Generar R prima.\n"
   ]
  },
  {
   "cell_type": "code",
   "execution_count": null,
   "metadata": {},
   "outputs": [],
   "source": []
  },
  {
   "cell_type": "markdown",
   "metadata": {},
   "source": [
    "4- Realice las siguiente recomendaciones (animes que no ha visto con calificación 10):\n",
    "\n",
    "    1- Usuario de id 51, películas.\n",
    "    2- Usuario de id 510, animes con menos de 31 episodios.\n",
    "    3- Usuario de id 17000, animes con rankins mayores o iguales a 9.\n",
    "    4- Usuario de id 27005, animes de comedia y aventura.\n",
    "    5- Usuario de id 37502, TV.\n",
    "    6- Usuario de id 57502, películas y OVAS.\n",
    "    7- Usuario de id 67501.\n",
    "\n",
    "Cada recomendación debe tener como respuesta, número de iteraciones, número de recomendaciones y nombre de los animes,"
   ]
  },
  {
   "cell_type": "code",
   "execution_count": null,
   "metadata": {},
   "outputs": [],
   "source": []
  }
 ],
 "metadata": {
  "kernelspec": {
   "display_name": "Python 3",
   "language": "python",
   "name": "python3"
  },
  "language_info": {
   "codemirror_mode": {
    "name": "ipython",
    "version": 3
   },
   "file_extension": ".py",
   "mimetype": "text/x-python",
   "name": "python",
   "nbconvert_exporter": "python",
   "pygments_lexer": "ipython3",
   "version": "3.8.3"
  }
 },
 "nbformat": 4,
 "nbformat_minor": 2
}
